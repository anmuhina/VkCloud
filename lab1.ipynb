{
  "nbformat": 4,
  "nbformat_minor": 0,
  "metadata": {
    "colab": {
      "provenance": [],
      "authorship_tag": "ABX9TyPKnd+AF0qPwX77KCHhFAVC",
      "include_colab_link": true
    },
    "kernelspec": {
      "name": "python3",
      "display_name": "Python 3"
    },
    "language_info": {
      "name": "python"
    }
  },
  "cells": [
    {
      "cell_type": "markdown",
      "metadata": {
        "id": "view-in-github",
        "colab_type": "text"
      },
      "source": [
        "<a href=\"https://colab.research.google.com/github/anmuhina/VkCloud/blob/master/lab1.ipynb\" target=\"_parent\"><img src=\"https://colab.research.google.com/assets/colab-badge.svg\" alt=\"Open In Colab\"/></a>"
      ]
    },
    {
      "cell_type": "code",
      "execution_count": 1,
      "metadata": {
        "id": "VycsGavKARDF"
      },
      "outputs": [],
      "source": [
        "import numpy as np"
      ]
    },
    {
      "cell_type": "code",
      "source": [
        "#1. Создать вектор (одномерный массив) размера 10, заполненный нулями\n",
        "zero_vec = np.zeros(10)\n",
        "print(zero_vec)"
      ],
      "metadata": {
        "colab": {
          "base_uri": "https://localhost:8080/"
        },
        "id": "5gCd1vJgAwSD",
        "outputId": "f01246f8-e88a-44d4-82e3-d9a56f699bdd"
      },
      "execution_count": 2,
      "outputs": [
        {
          "output_type": "stream",
          "name": "stdout",
          "text": [
            "[0. 0. 0. 0. 0. 0. 0. 0. 0. 0.]\n"
          ]
        }
      ]
    },
    {
      "cell_type": "code",
      "source": [
        "#2. Создать вектор (одномерный массив) размера 10, заполненный нулями, пятый элемент должен быть равен 1\n",
        "vec = np.zeros([10])\n",
        "vec[4] = 1\n",
        "vec"
      ],
      "metadata": {
        "colab": {
          "base_uri": "https://localhost:8080/"
        },
        "id": "cyokn_K0BeEt",
        "outputId": "5dc15f1a-b131-4745-d767-1da4149113a2"
      },
      "execution_count": 3,
      "outputs": [
        {
          "output_type": "execute_result",
          "data": {
            "text/plain": [
              "array([0., 0., 0., 0., 1., 0., 0., 0., 0., 0.])"
            ]
          },
          "metadata": {},
          "execution_count": 3
        }
      ]
    },
    {
      "cell_type": "code",
      "source": [
        "#3. Создать вектор (одномерный массив) размера 20. Заполнить его случайными значениями. Найти индексы ненулевых элементов\n",
        "vec = np.random.random([20])\n",
        "np.nonzero(vec)"
      ],
      "metadata": {
        "colab": {
          "base_uri": "https://localhost:8080/"
        },
        "id": "OscvpGROCCry",
        "outputId": "02fa9c08-ef84-48e0-ea43-c6ba4d402a5d"
      },
      "execution_count": 6,
      "outputs": [
        {
          "output_type": "execute_result",
          "data": {
            "text/plain": [
              "(array([ 0,  1,  2,  3,  4,  5,  6,  7,  8,  9, 10, 11, 12, 13, 14, 15, 16,\n",
              "        17, 18, 19]),)"
            ]
          },
          "metadata": {},
          "execution_count": 6
        }
      ]
    },
    {
      "cell_type": "code",
      "source": [
        "#4. Создать массив 3x3x3. Заполнить его случайными значениями\n",
        "vec = np.random.random((3, 3, 3))\n",
        "vec"
      ],
      "metadata": {
        "colab": {
          "base_uri": "https://localhost:8080/"
        },
        "id": "6OzsjBqGDCfE",
        "outputId": "0923c555-63bb-43cd-a382-1c1aa0981761"
      },
      "execution_count": 7,
      "outputs": [
        {
          "output_type": "execute_result",
          "data": {
            "text/plain": [
              "array([[[0.37888941, 0.10718612, 0.1034488 ],\n",
              "        [0.90807636, 0.88288344, 0.67607171],\n",
              "        [0.77344077, 0.19916614, 0.74927362]],\n",
              "\n",
              "       [[0.12146444, 0.13390853, 0.07001497],\n",
              "        [0.2207283 , 0.04670087, 0.05929597],\n",
              "        [0.32725305, 0.17154771, 0.62501301]],\n",
              "\n",
              "       [[0.10298448, 0.822198  , 0.9308097 ],\n",
              "        [0.54217141, 0.27759691, 0.86675613],\n",
              "        [0.88991335, 0.44014712, 0.42562251]]])"
            ]
          },
          "metadata": {},
          "execution_count": 7
        }
      ]
    },
    {
      "cell_type": "code",
      "source": [
        "#5. Создать вектор (одномерный массив) размера 10. Заполнить его случайными значениями. Найти среднее значение всех элементов\n",
        "vec = np.random.randint(0,20,10)\n",
        "print(vec)\n",
        "vec.mean()"
      ],
      "metadata": {
        "colab": {
          "base_uri": "https://localhost:8080/"
        },
        "id": "zVM0Y_WwDyDw",
        "outputId": "ea01f6ba-a145-45ea-94be-44469e3bb6ab"
      },
      "execution_count": 12,
      "outputs": [
        {
          "output_type": "stream",
          "name": "stdout",
          "text": [
            "[19 16 15 15  2  3  5 11 18 19]\n"
          ]
        },
        {
          "output_type": "execute_result",
          "data": {
            "text/plain": [
              "12.3"
            ]
          },
          "metadata": {},
          "execution_count": 12
        }
      ]
    },
    {
      "cell_type": "code",
      "source": [
        "#6. Создать две матрицы 5x3 и 3x2. Найти их произведение\n",
        "matrix1 = np.array([[1,2,3],[2,3,4],[4,5,6],[6,7,8],[8,9,10]])\n",
        "matrix2 = np.array([[0,1],[2,3],[4,5]])\n",
        "np.dot(matrix1, matrix2)"
      ],
      "metadata": {
        "colab": {
          "base_uri": "https://localhost:8080/"
        },
        "id": "ZnNrrRUpFsjF",
        "outputId": "91216ca5-2896-48e7-c789-857e3afa28d2"
      },
      "execution_count": 19,
      "outputs": [
        {
          "output_type": "execute_result",
          "data": {
            "text/plain": [
              "array([[16, 22],\n",
              "       [22, 31],\n",
              "       [34, 49],\n",
              "       [46, 67],\n",
              "       [58, 85]])"
            ]
          },
          "metadata": {},
          "execution_count": 19
        }
      ]
    },
    {
      "cell_type": "code",
      "source": [
        "#7. Создать две матрицы 4x4 и 4x4. Найти их произведение. Найти диагональные элементы произведения матриц\n",
        "matrix1 = np.random.random((4,4))\n",
        "matrix2 = np.random.random((4,4))\n",
        "mult = matrix1 * matrix2\n",
        "print(mult)\n",
        "mult.diagonal()"
      ],
      "metadata": {
        "colab": {
          "base_uri": "https://localhost:8080/"
        },
        "id": "c6KQnS-8JAdy",
        "outputId": "5d4af1aa-018b-4884-fef4-fa5f8909dde9"
      },
      "execution_count": 22,
      "outputs": [
        {
          "output_type": "stream",
          "name": "stdout",
          "text": [
            "[[0.05046125 0.65877105 0.24352009 0.523788  ]\n",
            " [0.83754903 0.12128477 0.23332318 0.62446392]\n",
            " [0.11460762 0.44535936 0.79020866 0.22377413]\n",
            " [0.24918805 0.12771298 0.5612978  0.33089972]]\n"
          ]
        },
        {
          "output_type": "execute_result",
          "data": {
            "text/plain": [
              "array([0.05046125, 0.12128477, 0.79020866, 0.33089972])"
            ]
          },
          "metadata": {},
          "execution_count": 22
        }
      ]
    },
    {
      "cell_type": "code",
      "source": [
        "#8. Создать вектор (одномерный массив) размера 20. Заполнить его случайными значениями. Заменить максимальный элемент на ноль\n",
        "vec = np.random.randint((1,20,20))\n",
        "print(vec)\n",
        "vec[vec.argmax()] = 0\n",
        "vec"
      ],
      "metadata": {
        "colab": {
          "base_uri": "https://localhost:8080/"
        },
        "id": "TswfxZsMJ1kH",
        "outputId": "c236b62a-4123-43f1-8f65-6dd1dab989c6"
      },
      "execution_count": 23,
      "outputs": [
        {
          "output_type": "stream",
          "name": "stdout",
          "text": [
            "[ 0  3 14]\n"
          ]
        },
        {
          "output_type": "execute_result",
          "data": {
            "text/plain": [
              "array([0, 3, 0])"
            ]
          },
          "metadata": {},
          "execution_count": 23
        }
      ]
    },
    {
      "cell_type": "code",
      "source": [
        "#9. Создать вектор (одномерный массив) размера 20. Заполнить его случайными значениями. Напечатать все значения в массиве без повторений\n",
        "vec = np.random.randint((1,20,20))\n",
        "print(vec)\n",
        "np.unique(vec)"
      ],
      "metadata": {
        "colab": {
          "base_uri": "https://localhost:8080/"
        },
        "id": "wntOKRq-KxgC",
        "outputId": "bf7f8ba0-b515-43f8-d79e-7d826a2f1ad7"
      },
      "execution_count": 26,
      "outputs": [
        {
          "output_type": "stream",
          "name": "stdout",
          "text": [
            "[ 0 18 13]\n"
          ]
        },
        {
          "output_type": "execute_result",
          "data": {
            "text/plain": [
              "array([ 0, 13, 18])"
            ]
          },
          "metadata": {},
          "execution_count": 26
        }
      ]
    },
    {
      "cell_type": "code",
      "source": [
        "#10. Создать матрицу. Отнять среднее из каждой строки в матрице\n",
        "matrix = np.random.randint(1, 100, [3,3])\n",
        "print(matrix.mean(axis=1))\n",
        "matrix = matrix - matrix.mean(axis=1, keepdims=True)\n",
        "matrix"
      ],
      "metadata": {
        "colab": {
          "base_uri": "https://localhost:8080/"
        },
        "id": "wKmLIhvlLK4X",
        "outputId": "9f98e1d9-66ae-40f0-94ca-17a01129a82f"
      },
      "execution_count": 27,
      "outputs": [
        {
          "output_type": "stream",
          "name": "stdout",
          "text": [
            "[18.33333333 67.66666667 49.33333333]\n"
          ]
        },
        {
          "output_type": "execute_result",
          "data": {
            "text/plain": [
              "array([[ -5.33333333,  -6.33333333,  11.66666667],\n",
              "       [-30.66666667,  20.33333333,  10.33333333],\n",
              "       [-27.33333333,  40.66666667, -13.33333333]])"
            ]
          },
          "metadata": {},
          "execution_count": 27
        }
      ]
    },
    {
      "cell_type": "code",
      "source": [
        "#11. Создать матрицу. Поменять две строки в матрице\n",
        "matrix = np.random.randint(1, 100, [3,3])\n",
        "print(matrix)\n",
        "matrix[[0,2]] = matrix[[2,0]]\n",
        "matrix"
      ],
      "metadata": {
        "colab": {
          "base_uri": "https://localhost:8080/"
        },
        "id": "isjC-LZ3Mhma",
        "outputId": "945c5dc3-389b-40d6-e54c-6d6ac25c919b"
      },
      "execution_count": 30,
      "outputs": [
        {
          "output_type": "stream",
          "name": "stdout",
          "text": [
            "[[84 41 32]\n",
            " [86 21 94]\n",
            " [36 70 18]]\n"
          ]
        },
        {
          "output_type": "execute_result",
          "data": {
            "text/plain": [
              "array([[36, 70, 18],\n",
              "       [86, 21, 94],\n",
              "       [84, 41, 32]])"
            ]
          },
          "metadata": {},
          "execution_count": 30
        }
      ]
    },
    {
      "cell_type": "code",
      "source": [],
      "metadata": {
        "id": "KKMe-nNWN9fQ"
      },
      "execution_count": null,
      "outputs": []
    }
  ]
}